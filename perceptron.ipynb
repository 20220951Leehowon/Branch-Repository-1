{
  "nbformat": 4,
  "nbformat_minor": 0,
  "metadata": {
    "colab": {
      "provenance": [],
      "toc_visible": true,
      "authorship_tag": "ABX9TyPXbXYuTVXIFIIEl7i39hEo",
      "include_colab_link": true
    },
    "kernelspec": {
      "name": "python3",
      "display_name": "Python 3"
    },
    "language_info": {
      "name": "python"
    },
    "gpuClass": "standard"
  },
  "cells": [
    {
      "cell_type": "markdown",
      "metadata": {
        "id": "view-in-github",
        "colab_type": "text"
      },
      "source": [
        "<a href=\"https://colab.research.google.com/github/20220951Leehowon/Branch-Repository-1/blob/main/perceptron.ipynb\" target=\"_parent\"><img src=\"https://colab.research.google.com/assets/colab-badge.svg\" alt=\"Open In Colab\"/></a>"
      ]
    },
    {
      "cell_type": "code",
      "execution_count": 20,
      "metadata": {
        "id": "B4XWfqBHx7HJ"
      },
      "outputs": [],
      "source": [
        "import torch\n",
        "import torch.nn as nn\n",
        "\n",
        "device = 'cuda' if torch.cuda.is_available() else 'cpu'\n",
        "#torch.manual_seed(2022)\n",
        "#if device == 'cuda':\n",
        "    #torch.cuda.manual_seed_all(2022)"
      ]
    },
    {
      "cell_type": "code",
      "source": [
        "X = torch.FloatTensor([[0, 0], [0, 1], [1, 0], [1, 1]]).to(device)\n",
        "Y = torch.FloatTensor([[0], [1], [1], [1]]).to(device)"
      ],
      "metadata": {
        "id": "bimdcwSJzHz0"
      },
      "execution_count": 21,
      "outputs": []
    },
    {
      "cell_type": "code",
      "source": [
        "model = nn.Sequential(nn.Linear(2, 1, bias=True), nn.Sigmoid()).to(device)"
      ],
      "metadata": {
        "id": "Wg150-hMzo_3"
      },
      "execution_count": 22,
      "outputs": []
    },
    {
      "cell_type": "code",
      "source": [
        "loss_func = torch.nn.BCELoss().to(device)\n",
        "optimizer = torch.optim.SGD(model.parameters(), lr=0.01)"
      ],
      "metadata": {
        "id": "y27g3T0D0jpJ"
      },
      "execution_count": 23,
      "outputs": []
    },
    {
      "cell_type": "code",
      "source": [
        "for step in range(20001):\n",
        "    optimizer.zero_grad()\n",
        "\n",
        "    Y_hat = model(X)\n",
        "    loss = loss_func(Y_hat, Y)\n",
        "    loss.backward()\n",
        "    optimizer\n",
        "    if step % 1000 == 0:\n",
        "        print(step, loss.item())"
      ],
      "metadata": {
        "colab": {
          "base_uri": "https://localhost:8080/"
        },
        "id": "DxDNriio0_ej",
        "outputId": "bba37878-1603-436c-85dd-308e13eb2cae"
      },
      "execution_count": 24,
      "outputs": [
        {
          "output_type": "stream",
          "name": "stdout",
          "text": [
            "0 0.48919183015823364\n",
            "1000 0.48919183015823364\n",
            "2000 0.48919183015823364\n",
            "3000 0.48919183015823364\n",
            "4000 0.48919183015823364\n",
            "5000 0.48919183015823364\n",
            "6000 0.48919183015823364\n",
            "7000 0.48919183015823364\n",
            "8000 0.48919183015823364\n",
            "9000 0.48919183015823364\n",
            "10000 0.48919183015823364\n",
            "11000 0.48919183015823364\n",
            "12000 0.48919183015823364\n",
            "13000 0.48919183015823364\n",
            "14000 0.48919183015823364\n",
            "15000 0.48919183015823364\n",
            "16000 0.48919183015823364\n",
            "17000 0.48919183015823364\n",
            "18000 0.48919183015823364\n",
            "19000 0.48919183015823364\n",
            "20000 0.48919183015823364\n"
          ]
        }
      ]
    },
    {
      "cell_type": "code",
      "source": [
        "with torch.no_grad():\n",
        "    model.eval()\n",
        "    inputs = torch.FloatTensor([[0, 0], [0, 1], [1, 0], [1, 1]]).to(device)\n",
        "    outputs = model(inputs)\n",
        "    \n",
        "    print(outputs)\n",
        "    print(outputs > 0.5)"
      ],
      "metadata": {
        "colab": {
          "base_uri": "https://localhost:8080/"
        },
        "id": "A-AQtlAy12VZ",
        "outputId": "ae773fef-5709-471c-b000-0b9f34eb7112"
      },
      "execution_count": 25,
      "outputs": [
        {
          "output_type": "stream",
          "name": "stdout",
          "text": [
            "tensor([[0.5867],\n",
            "        [0.6644],\n",
            "        [0.6846],\n",
            "        [0.7517]], device='cuda:0')\n",
            "tensor([[True],\n",
            "        [True],\n",
            "        [True],\n",
            "        [True]], device='cuda:0')\n"
          ]
        }
      ]
    },
    {
      "cell_type": "code",
      "source": [],
      "metadata": {
        "id": "IFl1JQ7h22XG"
      },
      "execution_count": null,
      "outputs": []
    }
  ]
}